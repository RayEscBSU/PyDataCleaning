{
 "cells": [
  {
   "cell_type": "code",
   "execution_count": 1,
   "id": "224f1ec8-451a-4430-82f0-33a8af70db7f",
   "metadata": {},
   "outputs": [],
   "source": [
    "myL = [1,2,3]"
   ]
  },
  {
   "cell_type": "code",
   "execution_count": 2,
   "id": "7764fe97-96e3-4f1e-a23d-ce49853b8622",
   "metadata": {},
   "outputs": [],
   "source": [
    "myL.append(1000)"
   ]
  },
  {
   "cell_type": "code",
   "execution_count": 3,
   "id": "130f3f8e-d576-4346-9902-202a8273e731",
   "metadata": {},
   "outputs": [
    {
     "data": {
      "text/plain": [
       "[1, 2, 3, 1000]"
      ]
     },
     "execution_count": 3,
     "metadata": {},
     "output_type": "execute_result"
    }
   ],
   "source": [
    "myL"
   ]
  },
  {
   "cell_type": "code",
   "execution_count": 10,
   "id": "2e87e447-b1cd-474b-b3bf-38d26d770ff5",
   "metadata": {},
   "outputs": [],
   "source": [
    "def myF(s):\n",
    "    print('Hello ' + s)"
   ]
  },
  {
   "cell_type": "code",
   "execution_count": 11,
   "id": "b8b05a2d-49b5-4f31-a901-6d13148ace4e",
   "metadata": {},
   "outputs": [
    {
     "name": "stdout",
     "output_type": "stream",
     "text": [
      "Hello ray\n"
     ]
    }
   ],
   "source": [
    "myF('ray')"
   ]
  },
  {
   "cell_type": "code",
   "execution_count": null,
   "id": "d2417994-d1e5-4a4e-8311-a9638ac1f99f",
   "metadata": {},
   "outputs": [],
   "source": []
  },
  {
   "cell_type": "code",
   "execution_count": null,
   "id": "f4ca2293-a3a9-4f64-9892-f464c74f1cd6",
   "metadata": {},
   "outputs": [],
   "source": []
  },
  {
   "cell_type": "code",
   "execution_count": null,
   "id": "75a6b31a-7adb-4a2d-bfbf-364b11a8b2a1",
   "metadata": {},
   "outputs": [],
   "source": []
  }
 ],
 "metadata": {
  "kernelspec": {
   "display_name": "Python 3 (ipykernel)",
   "language": "python",
   "name": "python3"
  },
  "language_info": {
   "codemirror_mode": {
    "name": "ipython",
    "version": 3
   },
   "file_extension": ".py",
   "mimetype": "text/x-python",
   "name": "python",
   "nbconvert_exporter": "python",
   "pygments_lexer": "ipython3",
   "version": "3.11.7"
  }
 },
 "nbformat": 4,
 "nbformat_minor": 5
}
